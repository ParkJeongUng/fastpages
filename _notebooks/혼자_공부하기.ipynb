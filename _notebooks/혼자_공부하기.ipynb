{
  "nbformat": 4,
  "nbformat_minor": 0,
  "metadata": {
    "colab": {
      "name": "혼자 공부하기",
      "provenance": [],
      "collapsed_sections": [
        "LekM4FRpmV0S",
        "17tU2CvdlzNX",
        "ugp-iodODapI",
        "Rp5Yi-qlpGkQ",
        "J2TrOAFdJJuc",
        "nqM8tL4_l_G_",
        "WsnY3EAQpWDT",
        "EJpXNuL0tLeq",
        "94DZRu2ctTta",
        "C23SHSfsUMhf",
        "ZgSSByNNcMXO",
        "anAnDWYn_iKU",
        "mpml9ERb_yp8",
        "GRriPYoiY4FN",
        "GUxe8-Pels08",
        "Pupe7XBKGGKB"
      ],
      "mount_file_id": "16KRB7uU7dKmaK2VfTaTJxE0nkGp6eWvm",
      "authorship_tag": "ABX9TyMjJ2nMd6osdq1NqnrE5Ixf",
      "include_colab_link": true
    },
    "kernelspec": {
      "name": "python3",
      "display_name": "Python 3"
    },
    "language_info": {
      "name": "python"
    }
  },
  "cells": [
    {
      "cell_type": "markdown",
      "metadata": {
        "id": "view-in-github",
        "colab_type": "text"
      },
      "source": [
        "<a href=\"https://colab.research.google.com/github/ParkJeongUng/fastpages/blob/master/_notebooks/%ED%98%BC%EC%9E%90_%EA%B3%B5%EB%B6%80%ED%95%98%EA%B8%B0.ipynb\" target=\"_parent\"><img src=\"https://colab.research.google.com/assets/colab-badge.svg\" alt=\"Open In Colab\"/></a>"
      ]
    },
    {
      "cell_type": "markdown",
      "metadata": {
        "id": "4MtCUIDr-DYh"
      },
      "source": [
        "# 인공지능 머신러닝 딥러닝\n",
        "1. 인공지능 --> 사람처럼 학습하고 추론 가능한 지능이 있는 시스템을 만드는 기술\n",
        "2. 머신러닝 --> 규칙을 프로그래밍하지 않아도 자동으로 데이터에서 규칙을 학습하는 알고리즘을 연구\n",
        "3. 딥러닝 --> 인간의 신경을 흉내내는 머신러닝 기법\n",
        "\n",
        "\n",
        "\n"
      ]
    },
    {
      "cell_type": "markdown",
      "metadata": {
        "id": "LekM4FRpmV0S"
      },
      "source": [
        "#K - 최근접이웃 // from sklearn.neighbors import KNeighborsClassifier\n",
        "1. 내가 지정한 데이터와 그 주변에 있는 데이터를 비교해서 결과를 예측한다.\n",
        "2. 새로운 데이터를 예측할 때 그 주변 직선거리로 가장 가까운 데이터와 비교한다.\n",
        "3. 데이터가 아주 많은 경우 사용하기 어렵다. 직선거리를 계산하는데 많은 시간이 들기 때문이다.\n",
        "4. 참고 데이터 기본값은 5이다. n_neighbors로 변경 가능하다"
      ]
    },
    {
      "cell_type": "code",
      "metadata": {
        "colab": {
          "base_uri": "https://localhost:8080/",
          "height": 280
        },
        "id": "Iw8i6cv9ipoq",
        "outputId": "583a98da-7de7-4dda-dbd1-e2301744cc1f"
      },
      "source": [
        "# 도미와 빙어의 산점도 그리기 --> plt.scatter()\n",
        "bream_length = [25.4, 26.3, 26.5, 29.0, 29.0, 29.7, 29.7, 30.0, 30.0, 30.7, 31.0, 31.0, \n",
        "                31.5, 32.0, 32.0, 32.0, 33.0, 33.0, 33.5, 33.5, 34.0, 34.0, 34.5, 35.0, \n",
        "                35.0, 35.0, 35.0, 36.0, 36.0, 37.0, 38.5, 38.5, 39.5, 41.0, 41.0]\n",
        "bream_weight = [242.0, 290.0, 340.0, 363.0, 430.0, 450.0, 500.0, 390.0, 450.0, 500.0, 475.0, 500.0, \n",
        "                500.0, 340.0, 600.0, 600.0, 700.0, 700.0, 610.0, 650.0, 575.0, 685.0, 620.0, 680.0, \n",
        "                700.0, 725.0, 720.0, 714.0, 850.0, 1000.0, 920.0, 955.0, 925.0, 975.0, 950.0]\n",
        "\n",
        "\n",
        "smelt_length = [9.8, 10.5, 10.6, 11.0, 11.2, 11.3, 11.8, 11.8, 12.0, 12.2, 12.4, 13.0, 14.3, 15.0]\n",
        "smelt_weight = [6.7, 7.5, 7.0, 9.7, 9.8, 8.7, 10.0, 9.9, 9.8, 12.2, 13.4, 12.2, 19.7, 19.9]\n",
        "\n",
        "import matplotlib.pyplot as plt\n",
        "plt.scatter(bream_length, bream_weight)\n",
        "plt.scatter(smelt_length, smelt_weight)\n",
        "plt.xlabel('bream_length')\n",
        "plt.ylabel('bream_weight')\n",
        "plt.show()"
      ],
      "execution_count": null,
      "outputs": [
        {
          "output_type": "display_data",
          "data": {
            "image/png": "[encoded data removed]",
            "text/plain": [
              "<Figure size 432x288 with 1 Axes>"
            ]
          },
          "metadata": {
            "needs_background": "light"
          }
        }
      ]
    },
    {
      "cell_type": "code",
      "metadata": {
        "id": "MA-7rKVEmhBS"
      },
      "source": [
        "#  K - 최근접 이웃\n",
        "bream_length = [25.4, 26.3, 26.5, 29.0, 29.0, 29.7, 29.7, 30.0, 30.0, 30.7, 31.0, 31.0, \n",
        "                31.5, 32.0, 32.0, 32.0, 33.0, 33.0, 33.5, 33.5, 34.0, 34.0, 34.5, 35.0, \n",
        "                35.0, 35.0, 35.0, 36.0, 36.0, 37.0, 38.5, 38.5, 39.5, 41.0, 41.0]\n",
        "bream_weight = [242.0, 290.0, 340.0, 363.0, 430.0, 450.0, 500.0, 390.0, 450.0, 500.0, 475.0, 500.0, \n",
        "                500.0, 340.0, 600.0, 600.0, 700.0, 700.0, 610.0, 650.0, 575.0, 685.0, 620.0, 680.0, \n",
        "                700.0, 725.0, 720.0, 714.0, 850.0, 1000.0, 920.0, 955.0, 925.0, 975.0, 950.0]\n",
        "\n",
        "\n",
        "smelt_length = [9.8, 10.5, 10.6, 11.0, 11.2, 11.3, 11.8, 11.8, 12.0, 12.2, 12.4, 13.0, 14.3, 15.0]\n",
        "smelt_weight = [6.7, 7.5, 7.0, 9.7, 9.8, 8.7, 10.0, 9.9, 9.8, 12.2, 13.4, 12.2, 19.7, 19.9]\n",
        "\n",
        "length = bream_length + smelt_length\n",
        "weight = bream_weight + smelt_weight"
      ],
      "execution_count": null,
      "outputs": []
    },
    {
      "cell_type": "code",
      "metadata": {
        "id": "9ffkhAhEHv37"
      },
      "source": [
        "# 나열된 리스트 각각에서 원소를 하나씩 꺼내 반환 --> zip()\n",
        "fish_data = [[l, w] for l, w in zip(length, weight)]"
      ],
      "execution_count": null,
      "outputs": []
    },
    {
      "cell_type": "code",
      "metadata": {
        "id": "p3jmKom1HyJb"
      },
      "source": [
        "# 그 생선이 도미면 1을 출력 아니면 0을 출력 (도미35마리, 빙어 14마리)\n",
        "fish_target = [1] * 35 + [0] * 14"
      ],
      "execution_count": null,
      "outputs": []
    },
    {
      "cell_type": "code",
      "metadata": {
        "id": "WpZFgRKoH0gF"
      },
      "source": [
        "#사이킷런 패키지에서 k - 최근접 이웃 알고리즘 클래스를 임포트\n",
        "from sklearn.neighbors import KNeighborsClassifier\n",
        "kn = KNeighborsClassifier()"
      ],
      "execution_count": null,
      "outputs": []
    },
    {
      "cell_type": "code",
      "metadata": {
        "colab": {
          "base_uri": "https://localhost:8080/"
        },
        "id": "8QxEFg26H1lb",
        "outputId": "7dfa7b13-5ee9-4912-8d19-e0e0c400e328"
      },
      "source": [
        "#도미를 찾기위한 기준을 학습시킨다 --> fit()\n",
        "kn.fit(fish_data, fish_target)"
      ],
      "execution_count": null,
      "outputs": [
        {
          "output_type": "execute_result",
          "data": {
            "text/plain": [
              "KNeighborsClassifier(algorithm='auto', leaf_size=30, metric='minkowski',\n",
              "                     metric_params=None, n_jobs=None, n_neighbors=5, p=2,\n",
              "                     weights='uniform')"
            ]
          },
          "metadata": {},
          "execution_count": 57
        }
      ]
    },
    {
      "cell_type": "code",
      "metadata": {
        "id": "PojFkepkH3RB"
      },
      "source": [
        "#만들어진 모델을 평가 --> score()\n",
        "kn.score(fish_data, fish_target)"
      ],
      "execution_count": null,
      "outputs": []
    },
    {
      "cell_type": "code",
      "metadata": {
        "id": "sL1ex3RmH-St"
      },
      "source": [
        "#새로운 데이터의 정답을 예측 --> predict()\n",
        "kn.predict([[30, 600]])"
      ],
      "execution_count": null,
      "outputs": []
    },
    {
      "cell_type": "code",
      "metadata": {
        "colab": {
          "base_uri": "https://localhost:8080/"
        },
        "id": "5NSMsbQpICFn",
        "outputId": "a629edc6-11fc-4ff0-f1db-f605f4eafba0"
      },
      "source": [
        "#참고 데이터 갯수 변경 --> n_neighbors\n",
        "kn49 = KNeighborsClassifier(n_neighbors=49)\n",
        "kn49.fit(fish_data, fish_target)\n",
        "kn49.score(fish_data, fish_target)"
      ],
      "execution_count": null,
      "outputs": [
        {
          "output_type": "execute_result",
          "data": {
            "text/plain": [
              "0.7142857142857143"
            ]
          },
          "metadata": {},
          "execution_count": 69
        }
      ]
    },
    {
      "cell_type": "markdown",
      "metadata": {
        "id": "17tU2CvdlzNX"
      },
      "source": [
        "## 연습"
      ]
    },
    {
      "cell_type": "code",
      "metadata": {
        "colab": {
          "base_uri": "https://localhost:8080/"
        },
        "id": "fI_BllHKk8TO",
        "outputId": "26d2f03e-dd7e-44c4-9685-ec185f9cd5df"
      },
      "source": [
        "bream_length = [25.4, 26.3, 26.5, 29.0, 29.0, 29.7, 29.7, 30.0, 30.0, 30.7, 31.0, 31.0, \n",
        "                31.5, 32.0, 32.0, 32.0, 33.0, 33.0, 33.5, 33.5, 34.0, 34.0, 34.5, 35.0, \n",
        "                35.0, 35.0, 35.0, 36.0, 36.0, 37.0, 38.5, 38.5, 39.5, 41.0, 41.0]\n",
        "bream_weight = [242.0, 290.0, 340.0, 363.0, 430.0, 450.0, 500.0, 390.0, 450.0, 500.0, 475.0, 500.0, \n",
        "                500.0, 340.0, 600.0, 600.0, 700.0, 700.0, 610.0, 650.0, 575.0, 685.0, 620.0, 680.0, \n",
        "                700.0, 725.0, 720.0, 714.0, 850.0, 1000.0, 920.0, 955.0, 925.0, 975.0, 950.0]\n",
        "\n",
        "\n",
        "smelt_length = [9.8, 10.5, 10.6, 11.0, 11.2, 11.3, 11.8, 11.8, 12.0, 12.2, 12.4, 13.0, 14.3, 15.0]\n",
        "smelt_weight = [6.7, 7.5, 7.0, 9.7, 9.8, 8.7, 10.0, 9.9, 9.8, 12.2, 13.4, 12.2, 19.7, 19.9]\n",
        "\n",
        "length = bream_length + smelt_length\n",
        "weight = bream_weight + smelt_weight\n",
        "\n",
        "fish_data = [[l,w] for l,w in zip(length, weight)]\n",
        "fish_target = [1] * 35 + [0] * 14\n",
        "\n",
        "from sklearn.neighbors import KNeighborsClassifier\n",
        "kn = KNeighborsClassifier()\n",
        "\n",
        "kn.fit(fish_data, fish_target)\n",
        "kn.score(fish_data, fish_target)\n",
        "kn.predict([[30, 600]])"
      ],
      "execution_count": null,
      "outputs": [
        {
          "output_type": "execute_result",
          "data": {
            "text/plain": [
              "array([1])"
            ]
          },
          "metadata": {},
          "execution_count": 6
        }
      ]
    },
    {
      "cell_type": "markdown",
      "metadata": {
        "id": "ugp-iodODapI"
      },
      "source": [
        "# 데이터 다루기\n",
        "1. 지도 학습과 비지도 학습\n",
        "*   지도학습 --> 입력(input)데이터와 타깃(target)데이터 2가지를 합친 훈련 데이터를 가지고있다.\n",
        "*   비지도학습 --> 타깃데이터 없이 입력데이터만 사용한다.\n",
        "\n",
        "2. 훈련 세트와 테스트 세트\n",
        "* 훈련 세트 --> 모델의 훈련을 위해 사용되는 데이터\n",
        "* 테스트 세트 --> 훈련된 모델의 평가에 사용되는 데이터 --> 일반적으로 이미 준비된 데이터의 일부를 떼어서 사용\n",
        "\n"
      ]
    },
    {
      "cell_type": "markdown",
      "metadata": {
        "id": "Rp5Yi-qlpGkQ"
      },
      "source": [
        "## 훈련세트와 테스트세트\n",
        " 샘플링편향 발생"
      ]
    },
    {
      "cell_type": "code",
      "metadata": {
        "id": "XNsbiGv2EgEM"
      },
      "source": [
        "fish_length = [25.4, 26.3, 26.5, 29.0, 29.0, 29.7, 29.7, 30.0, 30.0, 30.7, 31.0, 31.0, \n",
        "                31.5, 32.0, 32.0, 32.0, 33.0, 33.0, 33.5, 33.5, 34.0, 34.0, 34.5, 35.0, \n",
        "                35.0, 35.0, 35.0, 36.0, 36.0, 37.0, 38.5, 38.5, 39.5, 41.0, 41.0, 9.8, \n",
        "                10.5, 10.6, 11.0, 11.2, 11.3, 11.8, 11.8, 12.0, 12.2, 12.4, 13.0, 14.3, 15.0]\n",
        "\n",
        "fish_weight = [242.0, 290.0, 340.0, 363.0, 430.0, 450.0, 500.0, 390.0, 450.0, 500.0, 475.0, 500.0, \n",
        "                500.0, 340.0, 600.0, 600.0, 700.0, 700.0, 610.0, 650.0, 575.0, 685.0, 620.0, 680.0, \n",
        "                700.0, 725.0, 720.0, 714.0, 850.0, 1000.0, 920.0, 955.0, 925.0, 975.0, 950.0, 6.7, \n",
        "                7.5, 7.0, 9.7, 9.8, 8.7, 10.0, 9.9, 9.8, 12.2, 13.4, 12.2, 19.7, 19.9]"
      ],
      "execution_count": null,
      "outputs": []
    },
    {
      "cell_type": "code",
      "metadata": {
        "id": "NogP0ADnHZ7d"
      },
      "source": [
        "# zip() 함수 이용해서 각 생선의 길이와 무게를 담은 2차원 list 생성\n",
        "fish_data = [[l, w] for l, w in zip(fish_length, fish_weight)]\n",
        "fish_target = [1] * 35 + [0] * 14"
      ],
      "execution_count": null,
      "outputs": []
    },
    {
      "cell_type": "code",
      "metadata": {
        "id": "YJi4AYhjHdTl"
      },
      "source": [
        "#사이킷런 kneighbor 임포트\n",
        "from sklearn.neighbors import KNeighborsClassifier\n",
        "kn = KNeighborsClassifier()"
      ],
      "execution_count": null,
      "outputs": []
    },
    {
      "cell_type": "code",
      "metadata": {
        "id": "4QpCsELPHei5"
      },
      "source": [
        "# 훈련세트(35개) 와 테스트세트(14개) 구분하기 --> 슬라이싱\n",
        "train_input = fish_data[: 35]\n",
        "train_target = fish_target[: 35]\n",
        "test_input = fish_data[35: ]\n",
        "test_target = fish_target[35: ]"
      ],
      "execution_count": null,
      "outputs": []
    },
    {
      "cell_type": "code",
      "metadata": {
        "colab": {
          "base_uri": "https://localhost:8080/"
        },
        "id": "LoDCwG8-IGE1",
        "outputId": "10db3c95-c3ff-4692-fc88-1250f6cabe6d"
      },
      "source": [
        "# 훈련세트 --> fit()함수로 모델 훈련\n",
        "# 테스트세트 --> score()함수로 모델 평가\n",
        "kn = kn.fit(train_input, train_target)\n",
        "kn.score(test_input, test_target)\n",
        "\n",
        "#샘플링 편향 발생 --> 마지막 14개(빙어 특성 14개)를 test_input 으로 넣어놔서 훈련에 사용된 train_input 에는 빙어가 하나도 없음 --> 데이터를 섞든지 골고루 샘플을 뽑아야 함 --> numpy 사용"
      ],
      "execution_count": null,
      "outputs": [
        {
          "output_type": "execute_result",
          "data": {
            "text/plain": [
              "0.0"
            ]
          },
          "metadata": {},
          "execution_count": 78
        }
      ]
    },
    {
      "cell_type": "markdown",
      "metadata": {
        "id": "J2TrOAFdJJuc"
      },
      "source": [
        "## NUMPY를 이용한 샘플링 편향 해결\n",
        "* 파이썬의 대표적인 배열 라이브러리\n",
        "* 고차원의 배열을 쉽게 만들고 조작가능"
      ]
    },
    {
      "cell_type": "code",
      "metadata": {
        "id": "CUYPbqxXJg_4"
      },
      "source": [
        "# numpy 라이브러리 임포트\n",
        "import numpy as np"
      ],
      "execution_count": null,
      "outputs": []
    },
    {
      "cell_type": "code",
      "metadata": {
        "id": "HSzwI-WxJzci"
      },
      "source": [
        "# 파이썬 리스트를 넘파이 배열로 바꾸기 --> array()\n",
        "input_arr = np.array(fish_data)\n",
        "target_arr = np.array(fish_target)"
      ],
      "execution_count": null,
      "outputs": []
    },
    {
      "cell_type": "code",
      "metadata": {
        "colab": {
          "base_uri": "https://localhost:8080/"
        },
        "id": "cjAxwm7lKAgn",
        "outputId": "fa11e55d-4142-4e85-a42d-3e2fdfc5c4ab"
      },
      "source": [
        "# 배열의 크기를 알려주는 --> .shpae --> (샘플 수, 특성 수)를 출력한다.\n",
        "print(input_arr.shape)"
      ],
      "execution_count": null,
      "outputs": [
        {
          "output_type": "stream",
          "name": "stdout",
          "text": [
            "(49, 2)\n"
          ]
        }
      ]
    },
    {
      "cell_type": "code",
      "metadata": {
        "colab": {
          "base_uri": "https://localhost:8080/"
        },
        "id": "y3EZgceZKdCN",
        "outputId": "fcc8f31c-74a2-4f51-8123-4b53ddb4c64c"
      },
      "source": [
        "# 무작위로 샘플링 하기\n",
        "# input 과 target 에서 같은 인덱스는 함께 선택되어야 한다. input의 2번은 train으로 target의 2번은 test로 가면 안된다.\n",
        "# 넘파이의 random 함수들은 실행할 때마다 다른 결과를 만든다. --> random.seed()를 지정하면 항상 일정한 결과를 얻을 수 있다.\n",
        "np.random.seed(42)\n",
        "index = np.arange(49)\n",
        "np.random.shuffle(index)\n",
        "index"
      ],
      "execution_count": null,
      "outputs": [
        {
          "output_type": "execute_result",
          "data": {
            "text/plain": [
              "array([13, 45, 47, 44, 17, 27, 26, 25, 31, 19, 12,  4, 34,  8,  3,  6, 40,\n",
              "       41, 46, 15,  9, 16, 24, 33, 30,  0, 43, 32,  5, 29, 11, 36,  1, 21,\n",
              "        2, 37, 35, 23, 39, 10, 22, 18, 48, 20,  7, 42, 14, 28, 38])"
            ]
          },
          "metadata": {},
          "execution_count": 5
        }
      ]
    },
    {
      "cell_type": "code",
      "metadata": {
        "colab": {
          "base_uri": "https://localhost:8080/"
        },
        "id": "AjG4Jf3qMtDp",
        "outputId": "fd15533f-5fbb-4c75-979e-b45138fa6587"
      },
      "source": [
        "# numpy는 배열 인덱싱이 가능하다. --> 1개의 배열안에서 여러개의 원소를 선택해서 출력이 가능하다\n",
        "print(input_arr[[1,3]]) # input_arr의 2번째와 4번째 원소 출력\n",
        "\n",
        "# numpy 배열을 인덱스로 전하기 --> 훈련세트 생성\n",
        "train_input = input_arr[index [ : 35]]\n",
        "train_target = input_arr[index [ : 35]]\n",
        "\n",
        "#랜덤으로 만들어진 index의 첫번째 원소는 13 --> input_arr의 14번째 원소(index = 13)가 train_input의 1번째 원소(index = 0)에 들어감\n",
        "print(input_arr[13], train_input[0])\n",
        "\n",
        "# numpy 배열을 인덱스로 전하기 --> 테스트세트 생성\n",
        "test_input = input_arr[index [35 : ]]\n",
        "test_target = input_arr[index [35 : ]]\n",
        "\n",
        "#랜덤으로 만들어진 index의 35번째 원소는 37 --> input_arr의 38번째 원소(indexe = 37)가 test_input의 1번째 원소(index = 0)에 들어감 \n",
        "print(input_arr[37], test_input[0])"
      ],
      "execution_count": null,
      "outputs": [
        {
          "output_type": "stream",
          "name": "stdout",
          "text": [
            "[[ 26.3 290. ]\n",
            " [ 29.  363. ]]\n",
            "[ 32. 340.] [ 32. 340.]\n",
            "[10.6  7. ] [10.6  7. ]\n"
          ]
        }
      ]
    },
    {
      "cell_type": "code",
      "metadata": {
        "colab": {
          "base_uri": "https://localhost:8080/",
          "height": 279
        },
        "id": "_ikr8_wENNJO",
        "outputId": "2791e129-24d1-411a-bd65-dc1afd7f6337"
      },
      "source": [
        "# 훈련세트와 테스트세트가 잘 섞여서 생성되었는지 산점도로 확인\n",
        "import matplotlib.pyplot as plt\n",
        "plt.scatter(train_input[ :, 0], train_input[ :, 1])\n",
        "plt.scatter(test_input[ :, 0], test_input[ :, 1])\n",
        "plt.xlabel('length')\n",
        "plt.ylabel('weight')\n",
        "plt.show()"
      ],
      "execution_count": null,
      "outputs": [
        {
          "output_type": "display_data",
          "data": {
            "image/png": "[encoded data removed]",
            "text/plain": [
              "<Figure size 432x288 with 1 Axes>"
            ]
          },
          "metadata": {
            "needs_background": "light"
          }
        }
      ]
    },
    {
      "cell_type": "markdown",
      "metadata": {
        "id": "nqM8tL4_l_G_"
      },
      "source": [
        "## 연습"
      ]
    },
    {
      "cell_type": "code",
      "metadata": {
        "colab": {
          "base_uri": "https://localhost:8080/"
        },
        "id": "5urlmKR1Uzq7",
        "outputId": "d5e12e1f-adaa-45c6-cc3b-337bbdf2141d"
      },
      "source": [
        "fish_length = [25.4, 26.3, 26.5, 29.0, 29.0, 29.7, 29.7, 30.0, 30.0, 30.7, 31.0, 31.0, \n",
        "                31.5, 32.0, 32.0, 32.0, 33.0, 33.0, 33.5, 33.5, 34.0, 34.0, 34.5, 35.0, \n",
        "                35.0, 35.0, 35.0, 36.0, 36.0, 37.0, 38.5, 38.5, 39.5, 41.0, 41.0, 9.8, \n",
        "                10.5, 10.6, 11.0, 11.2, 11.3, 11.8, 11.8, 12.0, 12.2, 12.4, 13.0, 14.3, 15.0]\n",
        "\n",
        "fish_weight = [242.0, 290.0, 340.0, 363.0, 430.0, 450.0, 500.0, 390.0, 450.0, 500.0, 475.0, 500.0, \n",
        "                500.0, 340.0, 600.0, 600.0, 700.0, 700.0, 610.0, 650.0, 575.0, 685.0, 620.0, 680.0, \n",
        "                700.0, 725.0, 720.0, 714.0, 850.0, 1000.0, 920.0, 955.0, 925.0, 975.0, 950.0, 6.7, \n",
        "                7.5, 7.0, 9.7, 9.8, 8.7, 10.0, 9.9, 9.8, 12.2, 13.4, 12.2, 19.7, 19.9]\n",
        "\n",
        "fish_data = [[l, w] for l, w in zip(fish_length, fish_weight)]\n",
        "fish_target = [1] * 35 + [0] * 14\n",
        "\n",
        "import numpy as np\n",
        "\n",
        "input_arr = np.array(fish_data)\n",
        "target_arr = np.array(fish_target)\n",
        "\n",
        "np.random.seed(42)\n",
        "index = np.arange(49)\n",
        "np.random.shuffle(index)\n",
        "\n",
        "train_input = input_arr[index[ : 35]]\n",
        "train_target = target_arr[index [ : 35]]\n",
        "\n",
        "test_input = input_arr[index[35 :]]\n",
        "test_target = target_arr[index[35 :]]\n",
        "\n",
        "from sklearn.neighbors import KNeighborsClassifier\n",
        "kn = KNeighborsClassifier()\n",
        "\n",
        "kn.fit(train_input, train_target)\n",
        "kn.score(test_input, test_target)"
      ],
      "execution_count": null,
      "outputs": [
        {
          "output_type": "execute_result",
          "data": {
            "text/plain": [
              "1.0"
            ]
          },
          "metadata": {},
          "execution_count": 17
        }
      ]
    },
    {
      "cell_type": "markdown",
      "metadata": {
        "id": "WsnY3EAQpWDT"
      },
      "source": [
        "# 데이터 전처리"
      ]
    },
    {
      "cell_type": "code",
      "metadata": {
        "id": "NH3qIutYpsC1"
      },
      "source": [
        "fish_length = [25.4, 26.3, 26.5, 29.0, 29.0, 29.7, 29.7, 30.0, 30.0, 30.7, 31.0, 31.0, \n",
        "                31.5, 32.0, 32.0, 32.0, 33.0, 33.0, 33.5, 33.5, 34.0, 34.0, 34.5, 35.0, \n",
        "                35.0, 35.0, 35.0, 36.0, 36.0, 37.0, 38.5, 38.5, 39.5, 41.0, 41.0, 9.8, \n",
        "                10.5, 10.6, 11.0, 11.2, 11.3, 11.8, 11.8, 12.0, 12.2, 12.4, 13.0, 14.3, 15.0]\n",
        "                \n",
        "fish_weight = [242.0, 290.0, 340.0, 363.0, 430.0, 450.0, 500.0, 390.0, 450.0, 500.0, 475.0, 500.0, \n",
        "                500.0, 340.0, 600.0, 600.0, 700.0, 700.0, 610.0, 650.0, 575.0, 685.0, 620.0, 680.0, \n",
        "                700.0, 725.0, 720.0, 714.0, 850.0, 1000.0, 920.0, 955.0, 925.0, 975.0, 950.0, 6.7, \n",
        "                7.5, 7.0, 9.7, 9.8, 8.7, 10.0, 9.9, 9.8, 12.2, 13.4, 12.2, 19.7, 19.9]"
      ],
      "execution_count": null,
      "outputs": []
    },
    {
      "cell_type": "markdown",
      "metadata": {
        "id": "EJpXNuL0tLeq"
      },
      "source": [
        "## 넘파이로 input 데이터와 target  데이터 만들기\n"
      ]
    },
    {
      "cell_type": "code",
      "metadata": {
        "id": "AT7Jf36Xpw5Q"
      },
      "source": [
        "# input 데이터 생성 --> np.column_stack(()) --> 전달받은 리스트를 일렬로 세우고 다음 리스트를 일렬로 세운다.\n",
        "import numpy as np\n",
        "fish_data = np.column_stack((fish_length, fish_weight))\n",
        "\n",
        "# target 데이터 생성 --> np.ones(), np.zeros()\n",
        "# 두개의 배열을 연결한다 --> np.concatenate(())\n",
        "fish_target = np.concatenate((np.ones(35), np.zeros(14)))"
      ],
      "execution_count": null,
      "outputs": []
    },
    {
      "cell_type": "markdown",
      "metadata": {
        "id": "94DZRu2ctTta"
      },
      "source": [
        "## 사이킷런으로 훈련세트와 테스트세트 나누기"
      ]
    },
    {
      "cell_type": "code",
      "metadata": {
        "colab": {
          "base_uri": "https://localhost:8080/"
        },
        "id": "AfnhGZgUqTUr",
        "outputId": "fcb1961f-6a14-44b4-c830-6b2e63caa6c5"
      },
      "source": [
        "# 전달된 리스트나 배열을 비율에 맞게 훈련세트와 테스트세트로 나누어준다. --> train_test_split() --> model_selection 모듈 아래 들어있음\n",
        "from sklearn.model_selection import train_test_split\n",
        "train_input, test_input, train_target, test_target = train_test_split(fish_data, fish_target, random_state = 42)\n",
        "\n",
        "# 잘 나누어졌는지 shpae로 데이터크기 출력\n",
        "print(train_input.shape, test_input.shape)\n",
        "print(train_target.shape, test_target.shape)\n",
        "\n",
        "# 전체 데이터의 도미와 빙어의 비율 = 35 (도미) : 14 (빙어) / 2.5 : 1  \n",
        "# 테스트 세트의 도미와 빙어의 비율 = 10 (도미) : 3 (빙어) / 3.3 : 1\n",
        "# 샘플링 편향 발생\n",
        "print(test_target)"
      ],
      "execution_count": null,
      "outputs": [
        {
          "output_type": "stream",
          "name": "stdout",
          "text": [
            "(36, 2) (13, 2)\n",
            "(36,) (13,)\n",
            "[1. 0. 0. 0. 1. 1. 1. 1. 1. 1. 1. 1. 1.]\n"
          ]
        }
      ]
    },
    {
      "cell_type": "code",
      "metadata": {
        "colab": {
          "base_uri": "https://localhost:8080/"
        },
        "id": "ry6sTSt0rqjp",
        "outputId": "f018d087-a38f-498e-e63d-bec878cd597a"
      },
      "source": [
        "# 일부 클래스의 샘플 개수가 적을 때 무작위로 데이터를 나눈다면 샘플이 골고루 섞이지 않아 샘플링 편향이 발생할 수 있다.\n",
        "# stratify 매개변수에 target데이터를 전달하면 클래스 비율에 맞게 데이터를 나눈다.\n",
        "from sklearn.model_selection import train_test_split\n",
        "train_input, test_input, train_target, test_target = train_test_split(fish_data, fish_target, stratify = fish_target, random_state = 42)\n",
        "\n",
        "# 전체 데이터의 도미와 빙어의 비율 = 35 (도미) : 14 (빙어) / 2.5 : 1  \n",
        "# 테스트 세트의 도미와 빙어의 비율 = 9 (도미) : 4 (빙어) /  2.25 : 1\n",
        "# 데이터가 작아 비율을 동일하게 맞출 수 없지만 꽤 올바른 샘플링\n",
        "print(test_target)"
      ],
      "execution_count": null,
      "outputs": [
        {
          "output_type": "stream",
          "name": "stdout",
          "text": [
            "[0. 0. 1. 0. 1. 0. 1. 1. 1. 1. 1. 1. 1.]\n"
          ]
        }
      ]
    },
    {
      "cell_type": "markdown",
      "metadata": {
        "id": "C23SHSfsUMhf"
      },
      "source": [
        "## 수상한 도미 한 마리\n",
        "* [[25, 150]] 이라는 도미 데이터를 예측값으로 넣었더니 빙어로 출력이 된다.\n",
        "* 산점도에 있어서 직관적으로는 [[25, 150]] 데이터가 도미에 가까워 보이지만 x축의 범위와 y축의 범위를 생각하면 [[25, 150]] 데이터가 빙어데이터에 가까운것이 합리적이다.\n",
        "* 두 특성의 스케일이 다르면 알고리즘이 올바른 예측을 하지 못한다. --> 데이터 전처리를 통해 특성값을 일정한 기준으로 맞춰준다."
      ]
    },
    {
      "cell_type": "code",
      "metadata": {
        "colab": {
          "base_uri": "https://localhost:8080/"
        },
        "id": "gtqY-fQJUPJl",
        "outputId": "5610b860-783b-4534-e5ac-26394d8858f7"
      },
      "source": [
        "from sklearn.neighbors import KNeighborsClassifier\n",
        "kn = KNeighborsClassifier()\n",
        "kn.fit(train_input, train_target)\n",
        "kn.score(test_input, test_target)\n",
        "\n",
        "# [[25, 150]] 이라는 도미 데이터를 예측값으로 넣었더니 빙어[0]로 출력이 된다.\n",
        "print(kn.predict([[25, 150]]))"
      ],
      "execution_count": null,
      "outputs": [
        {
          "output_type": "stream",
          "name": "stdout",
          "text": [
            "[0.]\n"
          ]
        }
      ]
    },
    {
      "cell_type": "code",
      "metadata": {
        "colab": {
          "base_uri": "https://localhost:8080/",
          "height": 279
        },
        "id": "TBTUEcxYVRI-",
        "outputId": "cd9914e2-b17b-43bb-ae1b-7276aaa61295"
      },
      "source": [
        "# 산점도를 그려서 확인해보자.\n",
        "import matplotlib.pyplot as plt\n",
        "plt.scatter(train_input[:, 0], train_input[:, 1])\n",
        "plt.scatter(25, 150, marker = '^') # 새로운 데이터를 marker = '^'로 지정하여 삼각형으로 표현함. --> 구분하기 쉬움\n",
        "plt.xlabel('length')\n",
        "plt.ylabel('weight')\n",
        "plt.show()"
      ],
      "execution_count": null,
      "outputs": [
        {
          "output_type": "display_data",
          "data": {
            "image/png": "[encoded data removed]",
            "text/plain": [
              "<Figure size 432x288 with 1 Axes>"
            ]
          },
          "metadata": {
            "needs_background": "light"
          }
        }
      ]
    },
    {
      "cell_type": "code",
      "metadata": {
        "colab": {
          "base_uri": "https://localhost:8080/",
          "height": 424
        },
        "id": "g6c7lyUmV3hE",
        "outputId": "b004fbb5-c43d-4a76-f2a9-b42628706ee9"
      },
      "source": [
        "# 주어진 샘플에서 가장 가까운 이웃을 찾아주는 함수 --> kneighbors() --> 이 함수는 이웃까지의 거리와 이웃 샘플의 인덱스를 반환한다.\n",
        "distances, indexes = kn.kneighbors([[25, 150]])\n",
        "\n",
        "# 주어진 샘플의 이웃 샘플을 따로 구분해서 산점도를 그린다.\n",
        "plt.scatter(train_input[ : , 0], train_input[ : , 1])\n",
        "plt.scatter(25, 150 , marker = '^')\n",
        "plt.scatter(train_input[indexes, 0], train_input[indexes, 1], marker = 'D')\n",
        "plt.xlabel('length')\n",
        "plt.ylabel('weight')\n",
        "plt.show()\n",
        "\n",
        "print(train_input[indexes])\n",
        "print(train_target[indexes])\n",
        "print(distances)\n",
        "print(indexes)\n",
        "# [[25, 150]]의 샘플은 도미 데이터를 1개밖에 포함하지 않는다."
      ],
      "execution_count": null,
      "outputs": [
        {
          "output_type": "display_data",
          "data": {
            "image/png": "[encoded data removed]",
            "text/plain": [
              "<Figure size 432x288 with 1 Axes>"
            ]
          },
          "metadata": {
            "needs_background": "light"
          }
        },
        {
          "output_type": "stream",
          "name": "stdout",
          "text": [
            "[[[  37.  1000. ]\n",
            "  [  41.   975. ]\n",
            "  [  38.5  955. ]\n",
            "  [  39.5  925. ]\n",
            "  [  36.   850. ]]]\n",
            "[[1. 1. 1. 1. 1.]]\n",
            "[[150.24524979 150.25805338 150.35871414 150.43446443 150.71926768]]\n",
            "[[10 35 17  4  7]]\n"
          ]
        }
      ]
    },
    {
      "cell_type": "code",
      "metadata": {
        "colab": {
          "base_uri": "https://localhost:8080/",
          "height": 279
        },
        "id": "L2jGQaCHYGRq",
        "outputId": "c2d45d48-e841-485d-b30e-10a9cac055f4"
      },
      "source": [
        "# [[25, 150]]의 샘플이 직관적으로는 도미 데이터에 가까워 보이지만 x축의 범위와 y축의 범위를 생각해보면 답이 보인다.\n",
        "# x축의 길이와 y축의 길이를 같게 해서 산점도를 그려보자. --> xlim() = x축 범위 지정 , ylim() = y축 범위 지정\n",
        "plt.scatter(train_input[ : , 0], train_input[ : , 1])\n",
        "plt.scatter(25, 150 , marker = '^')\n",
        "plt.scatter(train_input[indexes, 0], train_input[indexes, 1], marker = 'D')\n",
        "plt.xlim((0, 1000))\n",
        "plt.xlabel('length')\n",
        "plt.ylabel('weight')\n",
        "plt.show()\n",
        "\n",
        "# weight 와 length 두 특성의 값이 놓인 범위가 매우 다르다. --> 두 특성의 스케일이 다르다.\n",
        "# 두 특성의 스케일이 다르면 알고리즘이 올바르게 예측할 수 없다. --> 특성값을 일정한 기준으로 맞춰주어야 한다. --> 데이터 전처리를 한다."
      ],
      "execution_count": null,
      "outputs": [
        {
          "output_type": "display_data",
          "data": {
            "image/png": "[encoded data removed]",
            "text/plain": [
              "<Figure size 432x288 with 1 Axes>"
            ]
          },
          "metadata": {
            "needs_background": "light"
          }
        }
      ]
    },
    {
      "cell_type": "markdown",
      "metadata": {
        "id": "ZgSSByNNcMXO"
      },
      "source": [
        "## 표준점수(standard score) --> 데이터 전처리\n",
        "* 각 특성값이 평균에서 표준편차의 몇 배만큼 떨어져 있는지를 나타낸다.\n",
        "* 평균을 빼고 표준편차로 나눈다.\n",
        "* 특성마다 값의 스케일이 다르므로 평균과 표준편차는 각 특성별로 계산해야 한다.\n",
        "* 테스트 세트를 스케일할때에도 훈련 세트의 평균과 표준편차를 이용하여 스케일 해야 한다."
      ]
    },
    {
      "cell_type": "code",
      "metadata": {
        "id": "l5yO4GD6b9pz",
        "colab": {
          "base_uri": "https://localhost:8080/"
        },
        "outputId": "9845dec5-d2cb-49c1-e8e5-88071e89ebcf"
      },
      "source": [
        "# 특성마다 값의 스케일이 다르므로 평균과 표준편차는 각 특성별로 계산해야 한다. --> axis = 0 으로 지정 --> axis = 0 (열 따라 계산), axis = 1 (행 따라 계산)\n",
        "# 평균을 구하는 넘파이 함수 --> np.mean()\n",
        "mean = np.mean(train_input, axis = 0)\n",
        "\n",
        "# 표준편차를 구하는 넘파이 함수 --> np.std()\n",
        "std = np.std(train_input, axis = 0)\n",
        "mean, std"
      ],
      "execution_count": null,
      "outputs": [
        {
          "output_type": "execute_result",
          "data": {
            "text/plain": [
              "(array([ 27.29722222, 454.09722222]), array([  9.98244253, 323.29893931]))"
            ]
          },
          "metadata": {},
          "execution_count": 12
        }
      ]
    },
    {
      "cell_type": "code",
      "metadata": {
        "id": "GGg8-nS5ROAT"
      },
      "source": [
        "# 표준점수로 변환\n",
        "train_scaled = (train_input - mean) / std"
      ],
      "execution_count": null,
      "outputs": []
    },
    {
      "cell_type": "code",
      "metadata": {
        "colab": {
          "base_uri": "https://localhost:8080/",
          "height": 279
        },
        "id": "k41xiDFsSEMs",
        "outputId": "a27beb23-dc4e-4007-8463-40438ac25e25"
      },
      "source": [
        "# 전처리된 데이터로 산점도 그리기\n",
        "plt.scatter(train_scaled[ :, 0], train_scaled[ :, 1])\n",
        "plt.scatter(25, 150, marker = '^')\n",
        "plt.xlabel('length')\n",
        "plt.ylabel('weight')\n",
        "plt.show()\n",
        "\n",
        "# 새로운 데이터는 전처리가 안돼있어서 따로 멀리 떨어져나옴 --> 새로운 데이터도 전처리"
      ],
      "execution_count": null,
      "outputs": [
        {
          "output_type": "display_data",
          "data": {
            "image/png": "[encoded data removed]",
            "text/plain": [
              "<Figure size 432x288 with 1 Axes>"
            ]
          },
          "metadata": {
            "needs_background": "light"
          }
        }
      ]
    },
    {
      "cell_type": "code",
      "metadata": {
        "colab": {
          "base_uri": "https://localhost:8080/",
          "height": 279
        },
        "id": "4gwiXIzoSpM3",
        "outputId": "429100a9-9548-4d3d-ad28-c630c89b9a5a"
      },
      "source": [
        "# 새로운 데이터 전처리 후 산점도 그리기\n",
        "new = ([25, 150] - mean) / std\n",
        "plt.scatter(train_scaled[ :, 0], train_scaled[ :, 1])\n",
        "plt.scatter(new[0], new[1], marker = '^')\n",
        "plt.xlabel('length')\n",
        "plt.ylabel('weight')\n",
        "plt.show()\n",
        "\n",
        "#새로운 데이터도 올바르게 표현됨"
      ],
      "execution_count": null,
      "outputs": [
        {
          "output_type": "display_data",
          "data": {
            "image/png": "[encoded data removed]",
            "text/plain": [
              "<Figure size 432x288 with 1 Axes>"
            ]
          },
          "metadata": {
            "needs_background": "light"
          }
        }
      ]
    },
    {
      "cell_type": "code",
      "metadata": {
        "colab": {
          "base_uri": "https://localhost:8080/"
        },
        "id": "dzXQkQTjTRdn",
        "outputId": "2cf0b3a8-3cf1-4cea-c08d-8bf908a5d129"
      },
      "source": [
        "# 전처리된 훈련세트로 모델 훈련하기\n",
        "kn.fit(train_scaled, train_target)"
      ],
      "execution_count": null,
      "outputs": [
        {
          "output_type": "execute_result",
          "data": {
            "text/plain": [
              "KNeighborsClassifier(algorithm='auto', leaf_size=30, metric='minkowski',\n",
              "                     metric_params=None, n_jobs=None, n_neighbors=5, p=2,\n",
              "                     weights='uniform')"
            ]
          },
          "metadata": {},
          "execution_count": 16
        }
      ]
    },
    {
      "cell_type": "code",
      "metadata": {
        "id": "S4TectmRTkaZ"
      },
      "source": [
        "# 테스트세트 전처리 --> 훈련세트의 평균과 표준편차를 기준으로 변환해야 같은 스케일로 산점도를 그릴 수 있다. --> 데이터 스케일을 같게한다.\n",
        "test_scaled = (test_input - mean) / std"
      ],
      "execution_count": null,
      "outputs": []
    },
    {
      "cell_type": "code",
      "metadata": {
        "colab": {
          "base_uri": "https://localhost:8080/"
        },
        "id": "f1tMuSCWUIXP",
        "outputId": "3a08fd20-b1b8-4e03-fd3c-f32a5d203b23"
      },
      "source": [
        "# 모델 평가\n",
        "kn.score(test_scaled, test_target)"
      ],
      "execution_count": null,
      "outputs": [
        {
          "output_type": "execute_result",
          "data": {
            "text/plain": [
              "1.0"
            ]
          },
          "metadata": {},
          "execution_count": 18
        }
      ]
    },
    {
      "cell_type": "code",
      "metadata": {
        "colab": {
          "base_uri": "https://localhost:8080/",
          "height": 297
        },
        "id": "fihE0ABOURnL",
        "outputId": "614ba72c-3c04-4278-c915-96843db7199c"
      },
      "source": [
        "# 수상한 도미 한 마리 예측값으로 넣어 확인하기 --> [[25, 150]]\n",
        "print(kn.predict([new]))\n",
        "\n",
        "# 수상한 도미 한 마리와 가장 근접한 이웃 데이터 확인하기\n",
        "distances, indexes = kn.kneighbors([new])\n",
        "plt.scatter(train_scaled[ :, 0], train_scaled[ :, 1])\n",
        "plt.scatter(new[0], new[1], marker = '^')\n",
        "plt.scatter(train_scaled[indexes, 0], train_scaled[indexes, 1], marker = 'D')\n",
        "plt.xlabel('length')\n",
        "plt.ylabel('weight')\n",
        "\n",
        "plt.show()"
      ],
      "execution_count": null,
      "outputs": [
        {
          "output_type": "stream",
          "name": "stdout",
          "text": [
            "[1.]\n"
          ]
        },
        {
          "output_type": "display_data",
          "data": {
            "image/png": "[encoded data removed]",
            "text/plain": [
              "<Figure size 432x288 with 1 Axes>"
            ]
          },
          "metadata": {
            "needs_background": "light"
          }
        }
      ]
    },
    {
      "cell_type": "markdown",
      "metadata": {
        "id": "VRoHw7l77M1X"
      },
      "source": [
        "## 연습"
      ]
    },
    {
      "cell_type": "code",
      "metadata": {
        "colab": {
          "base_uri": "https://localhost:8080/",
          "height": 283
        },
        "id": "7zAkxk0T6Pzx",
        "outputId": "fe5ce83e-2b3f-4349-f2eb-d579039c8e69"
      },
      "source": [
        "# 데이터\n",
        "fish_length = [25.4, 26.3, 26.5, 29.0, 29.0, 29.7, 29.7, 30.0, 30.0, 30.7, 31.0, 31.0, \n",
        "                31.5, 32.0, 32.0, 32.0, 33.0, 33.0, 33.5, 33.5, 34.0, 34.0, 34.5, 35.0, \n",
        "                35.0, 35.0, 35.0, 36.0, 36.0, 37.0, 38.5, 38.5, 39.5, 41.0, 41.0, 9.8, \n",
        "                10.5, 10.6, 11.0, 11.2, 11.3, 11.8, 11.8, 12.0, 12.2, 12.4, 13.0, 14.3, 15.0]\n",
        "                \n",
        "fish_weight = [242.0, 290.0, 340.0, 363.0, 430.0, 450.0, 500.0, 390.0, 450.0, 500.0, 475.0, 500.0, \n",
        "                500.0, 340.0, 600.0, 600.0, 700.0, 700.0, 610.0, 650.0, 575.0, 685.0, 620.0, 680.0, \n",
        "                700.0, 725.0, 720.0, 714.0, 850.0, 1000.0, 920.0, 955.0, 925.0, 975.0, 950.0, 6.7, \n",
        "                7.5, 7.0, 9.7, 9.8, 8.7, 10.0, 9.9, 9.8, 12.2, 13.4, 12.2, 19.7, 19.9]\n",
        "\n",
        "# train 세트 test 세트 분류\n",
        "import numpy as np\n",
        "\n",
        "fish_data = np.column_stack((fish_length, fish_weight))\n",
        "fish_target = np.concatenate((np.ones(35), np.zeros(14)))\n",
        "\n",
        "from sklearn.model_selection import train_test_split\n",
        "train_input, test_input, train_target, test_target = train_test_split(fish_data, fish_target, stratify = fish_target, random_state = 42)\n",
        "\n",
        "# 데이터 전처리\n",
        "mean = np.mean(train_input, axis = 0)\n",
        "std = np.std(train_input, axis = 0)\n",
        "\n",
        "train_scaled = (train_input - mean) / std\n",
        "test_scaled = (test_input - mean) / std\n",
        "\n",
        "# 모델링\n",
        "from sklearn.neighbors import KNeighborsClassifier\n",
        "kn = KNeighborsClassifier()\n",
        "\n",
        "kn.fit(train_scaled, train_target)\n",
        "kn.score(test_scaled, test_target)\n",
        "\n",
        "# 수상한 도미 한 마리 --> new = [25,150]\n",
        "new = [25, 150]\n",
        "scaled_new = ([25, 150] - mean) / std\n",
        "distances, indexes = kn.kneighbors([scaled_new])\n",
        "\n",
        "import matplotlib.pyplot as plt\n",
        "plt.scatter(train_scaled[ :, 0], train_scaled[ :, 1])\n",
        "plt.scatter(scaled_new[0], scaled_new[1], marker = '^')\n",
        "plt.scatter(train_scaled[indexes, 0], train_scaled[indexes, 1])\n",
        "plt.show()\n",
        "\n",
        "kn.predict([scaled_new])"
      ],
      "execution_count": null,
      "outputs": [
        {
          "output_type": "display_data",
          "data": {
            "image/png": "[encoded data removed]",
            "text/plain": [
              "<Figure size 432x288 with 1 Axes>"
            ]
          },
          "metadata": {
            "needs_background": "light"
          }
        },
        {
          "output_type": "execute_result",
          "data": {
            "text/plain": [
              "array([1.])"
            ]
          },
          "metadata": {},
          "execution_count": 37
        }
      ]
    },
    {
      "cell_type": "markdown",
      "metadata": {
        "id": "anAnDWYn_iKU"
      },
      "source": [
        "# K - 최근접 이웃 회귀 // KNeighborsRegressor"
      ]
    },
    {
      "cell_type": "markdown",
      "metadata": {
        "id": "mpml9ERb_yp8"
      },
      "source": [
        "## 회귀\n",
        "* 임의의 어떤 숫자를 예측\n",
        "* 두 변수 사이의 상관관계를 분석하는 방법"
      ]
    },
    {
      "cell_type": "code",
      "metadata": {
        "id": "jNXgZQ5fAqTQ"
      },
      "source": [
        "import numpy as np\n",
        "\n",
        "# 농어의 특성 = 길이\n",
        "perch_length = np.array([8.4, 13.7, 15.0, 16.2, 17.4, 18.0, 18.7, 19.0, 19.6, 20.0, 21.0,\n",
        "       21.0, 21.0, 21.3, 22.0, 22.0, 22.0, 22.0, 22.0, 22.5, 22.5, 22.7,\n",
        "       23.0, 23.5, 24.0, 24.0, 24.6, 25.0, 25.6, 26.5, 27.3, 27.5, 27.5,\n",
        "       27.5, 28.0, 28.7, 30.0, 32.8, 34.5, 35.0, 36.5, 36.0, 37.0, 37.0,\n",
        "       39.0, 39.0, 39.0, 40.0, 40.0, 40.0, 40.0, 42.0, 43.0, 43.0, 43.5,\n",
        "       44.0])\n",
        "# 농어의 타겟 = 무게\n",
        "perch_weight = np.array([5.9, 32.0, 40.0, 51.5, 70.0, 100.0, 78.0, 80.0, 85.0, 85.0, 110.0,\n",
        "       115.0, 125.0, 130.0, 120.0, 120.0, 130.0, 135.0, 110.0, 130.0,\n",
        "       150.0, 145.0, 150.0, 170.0, 225.0, 145.0, 188.0, 180.0, 197.0,\n",
        "       218.0, 300.0, 260.0, 265.0, 250.0, 250.0, 300.0, 320.0, 514.0,\n",
        "       556.0, 840.0, 685.0, 700.0, 700.0, 690.0, 900.0, 650.0, 820.0,\n",
        "       850.0, 900.0, 1015.0, 820.0, 1100.0, 1000.0, 1100.0, 1000.0,\n",
        "       1000.0])"
      ],
      "execution_count": null,
      "outputs": []
    },
    {
      "cell_type": "code",
      "metadata": {
        "colab": {
          "base_uri": "https://localhost:8080/",
          "height": 279
        },
        "id": "yiBOyOxtA3LW",
        "outputId": "4105b6ba-8ceb-4435-e8b8-9a6a97c4fbc6"
      },
      "source": [
        "# 이 데이터의 형태를 보기 위한 산점도 그리기\n",
        "import matplotlib.pyplot as plt\n",
        "\n",
        "plt.scatter(perch_length, perch_weight)\n",
        "plt.xlabel('length')\n",
        "plt.ylabel('weight')\n",
        "plt.show()\n",
        "\n",
        "# 농어의 길이가 길어질수록 무게가 늘어난다."
      ],
      "execution_count": null,
      "outputs": [
        {
          "output_type": "display_data",
          "data": {
            "image/png": "[encoded data removed]",
            "text/plain": [
              "<Figure size 432x288 with 1 Axes>"
            ]
          },
          "metadata": {
            "needs_background": "light"
          }
        }
      ]
    },
    {
      "cell_type": "code",
      "metadata": {
        "id": "HS8AgcW4Bc1S"
      },
      "source": [
        "# train 세트와 test 세트로 나누기\n",
        "from sklearn.model_selection import train_test_split\n",
        "train_input, test_input, train_target, test_target = train_test_split(perch_length, perch_weight, random_state = 42)"
      ],
      "execution_count": null,
      "outputs": []
    },
    {
      "cell_type": "code",
      "metadata": {
        "colab": {
          "base_uri": "https://localhost:8080/"
        },
        "id": "VSLCjxFCCM8-",
        "outputId": "af079525-cd2c-4307-9d86-36aa45827b71"
      },
      "source": [
        "# 사이킷런에 사용할 훈련 세트는 2차원 배열이어야 한다. --> 수동으로 1차원 배열을 2차원 배열로 만들어줘야 한다 --> reshape()\n",
        "# reshape 메서드는 크기에 -1 을 지정하면 남은 원소 개수로 모두 채우라는 의미\n",
        "train_input = train_input.reshape(-1, 1) # == train_input.reshape(42, 1)\n",
        "print(train_input.shape)\n",
        "\n",
        "test_input = test_input.reshape(-1, 1)\n",
        "print(test_input.shape)"
      ],
      "execution_count": null,
      "outputs": [
        {
          "output_type": "stream",
          "name": "stdout",
          "text": [
            "(42, 1)\n",
            "(14, 1)\n"
          ]
        }
      ]
    },
    {
      "cell_type": "code",
      "metadata": {
        "colab": {
          "base_uri": "https://localhost:8080/"
        },
        "id": "MxxLnmTeW3_a",
        "outputId": "00696baf-c5bd-4f7c-eec6-c397482e985c"
      },
      "source": [
        "# KNeighborsRegressor 모델 훈련\n",
        "from sklearn.neighbors import KNeighborsRegressor\n",
        "knr = KNeighborsRegressor()\n",
        "knr.fit(train_input, train_target)\n",
        "\n",
        "print(knr.score(test_input, test_target))\n",
        "# 스코어가 1이 안나왔다 --> 회귀에서는 정확한 숫자를 맞힌다는 것이 거의 불가능하다. --> 예측하는 값이 모두 임의의 수치이기 때문"
      ],
      "execution_count": null,
      "outputs": [
        {
          "output_type": "stream",
          "name": "stdout",
          "text": [
            "0.9928094061010639\n"
          ]
        }
      ]
    },
    {
      "cell_type": "code",
      "metadata": {
        "colab": {
          "base_uri": "https://localhost:8080/"
        },
        "id": "bvk4AK2nXaer",
        "outputId": "88cb7f43-3377-4349-b9d7-11496d2585c6"
      },
      "source": [
        "# 어느정도 예측이 벗어났는지 확인하기 --> 타깃과 예측한 값 사이의 차이를 확인 --> mean_absolute_error --> 타깃과 예측의 절댓값 오차의 평균\n",
        "from sklearn.metrics import mean_absolute_error\n",
        "\n",
        "# 테스트 세트의 예측값을 만든다.\n",
        "test_prediction = knr.predict(test_input)\n",
        "\n",
        "# 테스트 세트에 대한 절댓값 오차의 평균을 구한다.\n",
        "mae = mean_absolute_error(test_target, test_prediction)\n",
        "mae\n",
        "\n",
        "# 19그람 정도의 오차가 발생한다."
      ],
      "execution_count": null,
      "outputs": [
        {
          "output_type": "execute_result",
          "data": {
            "text/plain": [
              "19.157142857142862"
            ]
          },
          "metadata": {},
          "execution_count": 10
        }
      ]
    },
    {
      "cell_type": "markdown",
      "metadata": {
        "id": "GRriPYoiY4FN"
      },
      "source": [
        "## 훈련 세트를 사용해 모델 평가하기 // 과소적합, 과대적합\n",
        "* score(train) > score(test) --> 모델이 훈련세트에 과대적합 되었다. --> 실전에 투입하면 예측이 잘 안됨 --> 모델을 덜 복잡하게 만들어 해결한다. --> 이웃의 개수를 늘린다\n",
        "* score(train) < score(test) --> 모델이 훈련세트에 과소적합 되었다. --> 모델이 너무 단순하다. --> 모델을 더 복잡하게 만들어 해결한다. --> 이웃의 개수를 줄인다. "
      ]
    },
    {
      "cell_type": "code",
      "metadata": {
        "colab": {
          "base_uri": "https://localhost:8080/"
        },
        "id": "Lbd7GvvfZAM7",
        "outputId": "cc6c7eb3-df80-48bb-995b-6d24e8c5af9c"
      },
      "source": [
        "# 훈련 세트로 점수 확인하기\n",
        "print(knr.score(train_input, train_target))\n",
        "\n",
        "# 테스트 세트로 점수 확인하기\n",
        "print(knr.score(test_input, test_target))\n",
        "\n",
        "# score(train) < score(test) --> 과소적합 --> 데이터가 작을경우 과소적합이 발생할 수 있다."
      ],
      "execution_count": null,
      "outputs": [
        {
          "output_type": "stream",
          "name": "stdout",
          "text": [
            "0.9698823289099255\n",
            "0.9928094061010639\n"
          ]
        }
      ]
    },
    {
      "cell_type": "code",
      "metadata": {
        "id": "aVGo5Q3Gappk",
        "colab": {
          "base_uri": "https://localhost:8080/"
        },
        "outputId": "455eff00-a619-4103-9e6d-973ad9326182"
      },
      "source": [
        "# 과소적합을 해결하기 위해 모델을 복잡하게 만든다. --> n_neighbors의 개수를 줄인다.\n",
        "knr.n_neighbors = 3\n",
        "\n",
        "knr.fit(train_input, train_target)\n",
        "print(knr.score(train_input, train_target))\n",
        "print(knr.score(test_input, test_target))\n",
        "\n",
        "# 이웃의 개수를 줄였더니 train 세트와 test 세트의 score가 비슷하게 나온다."
      ],
      "execution_count": null,
      "outputs": [
        {
          "output_type": "stream",
          "name": "stdout",
          "text": [
            "0.9804899950518966\n",
            "0.974645996398761\n"
          ]
        }
      ]
    },
    {
      "cell_type": "markdown",
      "metadata": {
        "id": "GUxe8-Pels08"
      },
      "source": [
        "## 연습"
      ]
    },
    {
      "cell_type": "code",
      "metadata": {
        "colab": {
          "base_uri": "https://localhost:8080/"
        },
        "id": "nHVuFkVYlv3W",
        "outputId": "72b9f212-c66e-4250-d780-266da6f2fcdb"
      },
      "source": [
        "# 농어의 특성 = 길이\n",
        "\n",
        "import numpy as np\n",
        "perch_length = np.array([8.4, 13.7, 15.0, 16.2, 17.4, 18.0, 18.7, 19.0, 19.6, 20.0, 21.0,\n",
        "       21.0, 21.0, 21.3, 22.0, 22.0, 22.0, 22.0, 22.0, 22.5, 22.5, 22.7,\n",
        "       23.0, 23.5, 24.0, 24.0, 24.6, 25.0, 25.6, 26.5, 27.3, 27.5, 27.5,\n",
        "       27.5, 28.0, 28.7, 30.0, 32.8, 34.5, 35.0, 36.5, 36.0, 37.0, 37.0,\n",
        "       39.0, 39.0, 39.0, 40.0, 40.0, 40.0, 40.0, 42.0, 43.0, 43.0, 43.5,\n",
        "       44.0])\n",
        "\n",
        "# 농어의 타겟 = 무게\n",
        "perch_weight = np.array([5.9, 32.0, 40.0, 51.5, 70.0, 100.0, 78.0, 80.0, 85.0, 85.0, 110.0,\n",
        "       115.0, 125.0, 130.0, 120.0, 120.0, 130.0, 135.0, 110.0, 130.0,\n",
        "       150.0, 145.0, 150.0, 170.0, 225.0, 145.0, 188.0, 180.0, 197.0,\n",
        "       218.0, 300.0, 260.0, 265.0, 250.0, 250.0, 300.0, 320.0, 514.0,\n",
        "       556.0, 840.0, 685.0, 700.0, 700.0, 690.0, 900.0, 650.0, 820.0,\n",
        "       850.0, 900.0, 1015.0, 820.0, 1100.0, 1000.0, 1100.0, 1000.0,\n",
        "       1000.0])\n",
        "\n",
        "# train test split\n",
        "from sklearn.model_selection import train_test_split\n",
        "train_input, test_input, train_target, test_target = train_test_split(perch_length, perch_weight, random_state = 42)\n",
        "\n",
        "# 2차원 배열로 변형\n",
        "train_input = train_input.reshape(-1, 1)\n",
        "test_input = test_input.reshape(-1, 1)\n",
        "\n",
        "# 모델링\n",
        "from sklearn.neighbors import KNeighborsRegressor\n",
        "knr = KNeighborsRegressor()\n",
        "knr.fit(train_input, train_target)\n",
        "\n",
        "# 스코어\n",
        "knr.score(test_input, test_target)\n",
        "\n",
        "# 오차확인 mean absoulte error\n",
        "from sklearn.metrics import mean_absolute_error\n",
        "test_prediction = knr.predict(test_input)\n",
        "mae = mean_absolute_error(test_target, test_prediction)\n",
        "\n",
        "# 과소적합 --> 테스트세트 스코어가 트레인세트 스코어보다 높다\n",
        "print(knr.score(train_input, train_target))\n",
        "print(knr.score(test_input, test_target))\n",
        "\n",
        "# 과소적합 해결 --> 모델을 복잡하게 만든다. --> 이웃수 줄이기\n",
        "knr.n_neighbors = 3\n",
        "knr.fit(train_input, train_target)\n",
        "print(knr.score(train_input, train_target))\n",
        "print(knr.score(test_input, test_target))\n"
      ],
      "execution_count": null,
      "outputs": [
        {
          "output_type": "stream",
          "name": "stdout",
          "text": [
            "0.9698823289099255\n",
            "0.9928094061010639\n",
            "0.9804899950518966\n",
            "0.974645996398761\n"
          ]
        }
      ]
    },
    {
      "cell_type": "code",
      "metadata": {
        "colab": {
          "base_uri": "https://localhost:8080/",
          "height": 851
        },
        "id": "QaelnHSGwfr2",
        "outputId": "9a04cbd9-9933-4d13-e76c-b9a31cbe6bc9"
      },
      "source": [
        "# 모델의 복잡성 확인하기\n",
        "# n_neighbors = [1, 5, 10]\n",
        "# 농어의 길이를 5에서 45까지 바꿔가며 모델링 결과 확인하기\n",
        "\n",
        "from sklearn.neighbors import KNeighborsRegressor\n",
        "import matplotlib.pyplot as plt\n",
        "knr = KNeighborsRegressor()\n",
        "x = np.arange(5, 45).reshape(-1, 1)\n",
        "\n",
        "for n in [1, 5, 10]:\n",
        "  knr.n_neighbors = n\n",
        "  knr.fit(train_input, train_target)\n",
        "  predict = knr.predict(x)\n",
        "\n",
        "  \n",
        "  plt.scatter(train_input, train_target)\n",
        "  plt.scatter(x, predict, marker = '^')\n",
        "  plt.title(\"n_neighbors = {}\".format(n))\n",
        "  plt.xlabel('length')\n",
        "  plt.ylabel('weight')\n",
        "  plt.show()"
      ],
      "execution_count": null,
      "outputs": [
        {
          "output_type": "display_data",
          "data": {
            "image/png": "[encoded data removed]",
            "text/plain": [
              "<Figure size 432x288 with 1 Axes>"
            ]
          },
          "metadata": {
            "needs_background": "light"
          }
        },
        {
          "output_type": "display_data",
          "data": {
            "image/png": "[encoded data removed]",
            "text/plain": [
              "<Figure size 432x288 with 1 Axes>"
            ]
          },
          "metadata": {
            "needs_background": "light"
          }
        },
        {
          "output_type": "display_data",
          "data": {
            "image/png": "[encoded data removed]",
            "text/plain": [
              "<Figure size 432x288 with 1 Axes>"
            ]
          },
          "metadata": {
            "needs_background": "light"
          }
        }
      ]
    },
    {
      "cell_type": "markdown",
      "metadata": {
        "id": "89BhtUIRBtOx"
      },
      "source": [
        "# 선형 회귀 // LinearRegression"
      ]
    },
    {
      "cell_type": "code",
      "metadata": {
        "colab": {
          "base_uri": "https://localhost:8080/"
        },
        "id": "WTknYfclB9U5",
        "outputId": "ab2a727d-75f1-4e7e-800b-341ecf1f669f"
      },
      "source": [
        "# 농어의 특성 = 길이\n",
        "import numpy as np\n",
        "perch_length = np.array([8.4, 13.7, 15.0, 16.2, 17.4, 18.0, 18.7, 19.0, 19.6, 20.0, 21.0,\n",
        "       21.0, 21.0, 21.3, 22.0, 22.0, 22.0, 22.0, 22.0, 22.5, 22.5, 22.7,\n",
        "       23.0, 23.5, 24.0, 24.0, 24.6, 25.0, 25.6, 26.5, 27.3, 27.5, 27.5,\n",
        "       27.5, 28.0, 28.7, 30.0, 32.8, 34.5, 35.0, 36.5, 36.0, 37.0, 37.0,\n",
        "       39.0, 39.0, 39.0, 40.0, 40.0, 40.0, 40.0, 42.0, 43.0, 43.0, 43.5,\n",
        "       44.0])\n",
        "\n",
        "# 농어의 타겟 = 무게\n",
        "perch_weight = np.array([5.9, 32.0, 40.0, 51.5, 70.0, 100.0, 78.0, 80.0, 85.0, 85.0, 110.0,\n",
        "       115.0, 125.0, 130.0, 120.0, 120.0, 130.0, 135.0, 110.0, 130.0,\n",
        "       150.0, 145.0, 150.0, 170.0, 225.0, 145.0, 188.0, 180.0, 197.0,\n",
        "       218.0, 300.0, 260.0, 265.0, 250.0, 250.0, 300.0, 320.0, 514.0,\n",
        "       556.0, 840.0, 685.0, 700.0, 700.0, 690.0, 900.0, 650.0, 820.0,\n",
        "       850.0, 900.0, 1015.0, 820.0, 1100.0, 1000.0, 1100.0, 1000.0,\n",
        "       1000.0])\n",
        "\n",
        "# train test split\n",
        "from sklearn.model_selection import train_test_split\n",
        "train_input, test_input, train_target, test_target = train_test_split(perch_length, perch_weight, random_state = 42)\n",
        "\n",
        "# 2차원 변형\n",
        "train_input = train_input.reshape(-1, 1)\n",
        "test_input = test_input.reshape(-1, 1)\n",
        "\n",
        "# 모델링 --> 이웃개수 3개인 최근접회귀\n",
        "from sklearn.neighbors import KNeighborsRegressor\n",
        "knr = KNeighborsRegressor(n_neighbors = 3)\n",
        "knr.fit(train_input, train_target)"
      ],
      "execution_count": null,
      "outputs": [
        {
          "output_type": "execute_result",
          "data": {
            "text/plain": [
              "KNeighborsRegressor(algorithm='auto', leaf_size=30, metric='minkowski',\n",
              "                    metric_params=None, n_jobs=None, n_neighbors=3, p=2,\n",
              "                    weights='uniform')"
            ]
          },
          "metadata": {},
          "execution_count": 2
        }
      ]
    },
    {
      "cell_type": "markdown",
      "metadata": {
        "id": "fQ51pxDqDpKu"
      },
      "source": [
        "## 50cm 인 농어의 무게 예측"
      ]
    },
    {
      "cell_type": "code",
      "metadata": {
        "colab": {
          "base_uri": "https://localhost:8080/"
        },
        "id": "OklZJdhqCFAF",
        "outputId": "5209a779-3501-4539-ee97-12f2a6ecbbf7"
      },
      "source": [
        "print(knr.predict([[50]]))\n",
        "\n",
        "# 그러나 실제 50cm인 농어의 무게와 오차가 심하다는 예시"
      ],
      "execution_count": null,
      "outputs": [
        {
          "output_type": "stream",
          "name": "stdout",
          "text": [
            "[1033.33333333]\n"
          ]
        }
      ]
    },
    {
      "cell_type": "code",
      "metadata": {
        "colab": {
          "base_uri": "https://localhost:8080/",
          "height": 297
        },
        "id": "WF0dtDXcD6Bm",
        "outputId": "92d44655-ce18-4dab-cc5e-3273a41de0a0"
      },
      "source": [
        "# 훈련 세트, 50cm 농어, 50cm 농어의 최근접 이웃을 산점도로 그리기\n",
        "distancecs, indexes = knr.kneighbors([[50]])\n",
        "predict = knr.predict([[50]])\n",
        "\n",
        "import matplotlib.pyplot as plt\n",
        "plt.scatter(train_input, train_target)\n",
        "plt.scatter(50, predict, marker = '^')\n",
        "plt.scatter(train_input[indexes], train_target[indexes], marker = 'D')\n",
        "plt.xlabel('length')\n",
        "plt.ylabel('weight')\n",
        "plt.show()\n",
        "\n",
        "# 훈련세트의 범위를 벗어났기 때문에 엉뚱한 값을 출력함 --> 100cm 농어의 경우도 똑같은 무게를 출력\n",
        "print(knr.predict([[100]]))"
      ],
      "execution_count": null,
      "outputs": [
        {
          "output_type": "display_data",
          "data": {
            "image/png": "[encoded data removed]",
            "text/plain": [
              "<Figure size 432x288 with 1 Axes>"
            ]
          },
          "metadata": {
            "needs_background": "light"
          }
        },
        {
          "output_type": "stream",
          "name": "stdout",
          "text": [
            "[1033.33333333]\n"
          ]
        }
      ]
    },
    {
      "cell_type": "markdown",
      "metadata": {
        "id": "Pupe7XBKGGKB"
      },
      "source": [
        "## 선형 회귀 모델링\n",
        "* KNeighborsRegressor로 위 문제를 해결하려면 train 세트를 길이가 긴 농어가 포함되도록 다시 만들어야 한다.\n",
        "* 선형 회귀를 이용하면 train 세트의 범위를 벗어나도 길이가 긴 농어의 무게를 예측할 수 있다.\n",
        "* 선형 회귀에서 알고리즘이 찾아낸 직선의 기울기나 y절편 값을 \"모델 파라미터\" 라고 한다."
      ]
    },
    {
      "cell_type": "code",
      "metadata": {
        "colab": {
          "base_uri": "https://localhost:8080/"
        },
        "id": "CHqKvXTzGxeQ",
        "outputId": "4bf89c78-69c1-45e0-b4a6-e69076303e3e"
      },
      "source": [
        "# 선형회귀 모델링\n",
        "from sklearn.linear_model import LinearRegression\n",
        "lr = LinearRegression()\n",
        "lr.fit(train_input, train_target)\n",
        "\n",
        "# 50cm 농어의 무게 예측값과 100cm 농어의 무게 예측값\n",
        "print(lr.predict([[50], [100]]))"
      ],
      "execution_count": null,
      "outputs": [
        {
          "output_type": "stream",
          "name": "stdout",
          "text": [
            "[1241.83860323 3192.69585141]\n"
          ]
        }
      ]
    },
    {
      "cell_type": "code",
      "metadata": {
        "colab": {
          "base_uri": "https://localhost:8080/",
          "height": 297
        },
        "id": "5ER2TBqsIAr7",
        "outputId": "747fbb89-a4bd-465d-d616-5564f7f6b34f"
      },
      "source": [
        "# 선형 회귀에서 알고리즘이 찾아낸 직선의 기울기나 y절편 값을 \"모델 파라미터\" 라고 한다.\n",
        "# 이러한 파라미터들은 coef_(기울기) 와 intercept(y절편) 에 저장되어 있다.\n",
        "# 머신러닝에서 \"기울기\"는 \"계수\" 또는 \"가중치\" 라고도 한다.\n",
        "print(lr.coef_, lr.intercept_)\n",
        "\n",
        "# 훈련세트와 농어의 길이 15 ~ 50를 기준으로 알고리즘이 찾아낸 직선 그리기\n",
        "import matplotlib.pyplot as plt\n",
        "plt.scatter(train_input, train_target)\n",
        "\n",
        "# 15 ~ 50까지 직선 그리기\n",
        "plt.plot([15, 50], [15 * lr.coef_ + lr.intercept_, 50 * lr.coef_ + lr.intercept_])\n",
        "\n",
        "# 50cm 농어 데이터\n",
        "predict = lr.predict([[50]])\n",
        "plt.scatter(50, predict, marker = '^')\n",
        "plt.xlabel('length')\n",
        "plt.ylabel('weight')\n",
        "plt.show()"
      ],
      "execution_count": null,
      "outputs": [
        {
          "output_type": "stream",
          "name": "stdout",
          "text": [
            "[39.01714496] -709.0186449535477\n"
          ]
        },
        {
          "output_type": "display_data",
          "data": {
            "image/png": "[encoded data removed]",
            "text/plain": [
              "<Figure size 432x288 with 1 Axes>"
            ]
          },
          "metadata": {
            "needs_background": "light"
          }
        }
      ]
    },
    {
      "cell_type": "code",
      "metadata": {
        "colab": {
          "base_uri": "https://localhost:8080/"
        },
        "id": "JUc0R2LVKQCs",
        "outputId": "126a0a4c-b3dc-49be-cc2c-f1a59788bb56"
      },
      "source": [
        "# 선형 회귀에 대한 점수 확인\n",
        "print(lr.score(train_input, train_target))\n",
        "print(lr.score(test_input, test_target))\n",
        "\n",
        "# 테스트세트의 점수가 현저히 낮은 과대적합\n",
        "# 훈련세트의 점수 또한 높은 편이 아니기에 전체적으로 과소적합 되었다.\n",
        "# 직선을 확인했을 때 X = 15 인 구간에서 Y 값이 0 이하가 나온다. --> 현실에서는 불가능"
      ],
      "execution_count": null,
      "outputs": [
        {
          "output_type": "stream",
          "name": "stdout",
          "text": [
            "0.9398463339976039\n",
            "0.8247503123313558\n"
          ]
        }
      ]
    },
    {
      "cell_type": "markdown",
      "metadata": {
        "id": "FXGKKO2iXNEI"
      },
      "source": [
        "## 다항 회귀"
      ]
    },
    {
      "cell_type": "code",
      "metadata": {
        "colab": {
          "base_uri": "https://localhost:8080/",
          "height": 279
        },
        "id": "Ut6j4RHXXaDY",
        "outputId": "432888da-7604-4f38-904e-a27ae00b3b02"
      },
      "source": [
        "import matplotlib.pyplot as plt\n",
        "plt.scatter(train_input, train_target)\n",
        "plt.xlabel('length')\n",
        "plt.ylabel('weight')\n",
        "plt.show()\n",
        "\n",
        "# train세트의 산점도는 일직선 이라기 보다는 곡선의 형태에 가깝다 --> 2차방정식의 그래프를 그려보자 --> y = ax^2 + bx + c"
      ],
      "execution_count": null,
      "outputs": [
        {
          "output_type": "display_data",
          "data": {
            "image/png": "[encoded data removed]",
            "text/plain": [
              "<Figure size 432x288 with 1 Axes>"
            ]
          },
          "metadata": {
            "needs_background": "light"
          }
        }
      ]
    },
    {
      "cell_type": "code",
      "metadata": {
        "colab": {
          "base_uri": "https://localhost:8080/"
        },
        "id": "4SYF5dOLXkCu",
        "outputId": "912eb99d-8402-45ef-bfc1-844c05297634"
      },
      "source": [
        "# 2차방정식의 그래프를 그리려면 train세트에 길이를 제곱한 항이 추가되어야 한다.\n",
        "# np.column_stack() 을 이용해서 train세트의 제곱과 train세트 2배열을 나란히 붙인다. --> test세트도 마찬가지\n",
        "train_poly = np.column_stack((train_input ** 2, train_input))\n",
        "test_poly = np.column_stack((test_input ** 2, test_input))\n",
        "\n",
        "print(train_poly.shape, test_poly.shape)\n",
        "# 모든 원소 제곱이 하나의 열을 이루었기 때문에 열이 2개로 늘어났다."
      ],
      "execution_count": null,
      "outputs": [
        {
          "output_type": "stream",
          "name": "stdout",
          "text": [
            "(42, 2) (14, 2)\n"
          ]
        }
      ]
    },
    {
      "cell_type": "code",
      "metadata": {
        "colab": {
          "base_uri": "https://localhost:8080/"
        },
        "id": "_2lkVOZCZHlr",
        "outputId": "50d58abb-f641-48f9-8faf-6ff3e7d7b569"
      },
      "source": [
        "# 모델링\n",
        "from sklearn.linear_model import LinearRegression\n",
        "lr = LinearRegression()\n",
        "lr.fit(train_poly, train_target)\n",
        "\n",
        "print(lr.predict([[50 ** 2, 50]]))"
      ],
      "execution_count": null,
      "outputs": [
        {
          "output_type": "stream",
          "name": "stdout",
          "text": [
            "[1573.98423528]\n"
          ]
        }
      ]
    },
    {
      "cell_type": "code",
      "metadata": {
        "colab": {
          "base_uri": "https://localhost:8080/",
          "height": 283
        },
        "id": "UnpikOzXaUlG",
        "outputId": "0622a941-f746-42be-b167-f642e33ce9b7"
      },
      "source": [
        "# 이 모델의 계수와 y절편 구하기 \n",
        "print(lr.coef_, lr.intercept_)\n",
        "\n",
        "# trian 세트 산점도를 그리고 그 위에 계수와 절편을 이용해 모델링에 사용된 곡선 그리기\n",
        "\n",
        "x = np.arange(15, 51) # 15cm ~ 50cm길이의 농어 배열 생성\n",
        "import matplotlib.pyplot as plt\n",
        "plt.scatter(train_input, train_target)\n",
        "plt.plot(x, lr.coef_[0] * x ** 2 + lr.coef_[1] * x + lr.intercept_)\n",
        "plt.scatter(50, lr.predict([[50 ** 2, 50]]), marker = '^')\n",
        "plt.show()"
      ],
      "execution_count": 26,
      "outputs": [
        {
          "output_type": "stream",
          "name": "stdout",
          "text": [
            "[  1.01433211 -21.55792498] 116.05021078278276\n"
          ]
        },
        {
          "output_type": "display_data",
          "data": {
            "image/png": "[encoded data removed]",
            "text/plain": [
              "<Figure size 432x288 with 1 Axes>"
            ]
          },
          "metadata": {
            "needs_background": "light"
          }
        }
      ]
    },
    {
      "cell_type": "code",
      "metadata": {
        "colab": {
          "base_uri": "https://localhost:8080/"
        },
        "id": "i91TzkIRc12E",
        "outputId": "c8cfe627-338b-493c-f1bd-b4430fe4cf0b"
      },
      "source": [
        "# 점수 확인\n",
        "print(lr.score(train_poly, train_target))\n",
        "print(lr.score(test_poly, test_target))  # 이정도 점수차이면 양호하다고 볼 수 있는건가요?\n",
        "\n",
        "# 과소적합이 아직 조금은 남아있음 --> 조금 더 복잡한 모델 생성"
      ],
      "execution_count": null,
      "outputs": [
        {
          "output_type": "stream",
          "name": "stdout",
          "text": [
            "0.9706807451768623\n",
            "0.9775935108325122\n"
          ]
        }
      ]
    },
    {
      "cell_type": "markdown",
      "metadata": {
        "id": "yr7FzqtmBVGw"
      },
      "source": [
        "## 연습"
      ]
    },
    {
      "cell_type": "code",
      "metadata": {
        "colab": {
          "base_uri": "https://localhost:8080/",
          "height": 604
        },
        "id": "n_laHAgNBW5l",
        "outputId": "438baa8a-0e3d-4a9d-f3d2-b9f9b6737f14"
      },
      "source": [
        "# 농어의 특성 = 길이\n",
        "import numpy as np\n",
        "perch_length = np.array([8.4, 13.7, 15.0, 16.2, 17.4, 18.0, 18.7, 19.0, 19.6, 20.0, 21.0,\n",
        "       21.0, 21.0, 21.3, 22.0, 22.0, 22.0, 22.0, 22.0, 22.5, 22.5, 22.7,\n",
        "       23.0, 23.5, 24.0, 24.0, 24.6, 25.0, 25.6, 26.5, 27.3, 27.5, 27.5,\n",
        "       27.5, 28.0, 28.7, 30.0, 32.8, 34.5, 35.0, 36.5, 36.0, 37.0, 37.0,\n",
        "       39.0, 39.0, 39.0, 40.0, 40.0, 40.0, 40.0, 42.0, 43.0, 43.0, 43.5,\n",
        "       44.0])\n",
        "\n",
        "# 농어의 타겟 = 무게\n",
        "perch_weight = np.array([5.9, 32.0, 40.0, 51.5, 70.0, 100.0, 78.0, 80.0, 85.0, 85.0, 110.0,\n",
        "       115.0, 125.0, 130.0, 120.0, 120.0, 130.0, 135.0, 110.0, 130.0,\n",
        "       150.0, 145.0, 150.0, 170.0, 225.0, 145.0, 188.0, 180.0, 197.0,\n",
        "       218.0, 300.0, 260.0, 265.0, 250.0, 250.0, 300.0, 320.0, 514.0,\n",
        "       556.0, 840.0, 685.0, 700.0, 700.0, 690.0, 900.0, 650.0, 820.0,\n",
        "       850.0, 900.0, 1015.0, 820.0, 1100.0, 1000.0, 1100.0, 1000.0,\n",
        "       1000.0])\n",
        "\n",
        "# train test split\n",
        "from sklearn.model_selection import train_test_split\n",
        "train_input, test_input, train_target, test_target = train_test_split(perch_length, perch_weight, random_state = 42)\n",
        "\n",
        "# 2차원 변형\n",
        "train_input = train_input.reshape(-1,1)\n",
        "test_input = test_input.reshape(-1,1)\n",
        "\n",
        "# 선형회귀 모델링\n",
        "from sklearn.linear_model import LinearRegression\n",
        "lr = LinearRegression()\n",
        "lr.fit(train_input, train_target)\n",
        "\n",
        "# 점수 확인 --> 과대적합 이면서 전체적인 과소적합\n",
        "print(lr.score(train_input, train_target))\n",
        "print(lr.score(test_input, test_target))\n",
        "\n",
        "# 산점도와 직선 확인\n",
        "import matplotlib.pyplot as plt\n",
        "plt.scatter(train_input, train_target)\n",
        "plt.plot([15, 50], [15 * lr.coef_ + lr.intercept_, 50 * lr.coef_ + lr.intercept_])\n",
        "plt.scatter(50, lr.predict([[50]]), marker = '^')\n",
        "print(plt.show())\n",
        "\n",
        "# 2차방정식 선형회귀 모델링\n",
        "\n",
        "# 제곱형태의 train, test세트 준비\n",
        "train_poly = np.column_stack((train_input ** 2, train_input))\n",
        "test_poly = np.column_stack((test_input ** 2, test_input))\n",
        "\n",
        "# 모델링\n",
        "lr.fit(train_poly, train_target)\n",
        "\n",
        "# 점수확인 --> 점수 많이 좋아짐\n",
        "print(lr.score(train_poly, train_target))\n",
        "print(lr.score(test_poly, test_target))\n",
        "\n",
        "# 산점도와 곡선확인\n",
        "plt.scatter(train_input, train_target)\n",
        "x = np.arange(15, 51)\n",
        "plt.plot(x, x ** 2 * lr.coef_[0] + x * lr.coef_[1] + lr.intercept_)\n",
        "plt.scatter(50, lr.predict([[50 ** 2, 50]]), marker = '^')\n",
        "plt.show()\n"
      ],
      "execution_count": 32,
      "outputs": [
        {
          "output_type": "stream",
          "name": "stdout",
          "text": [
            "0.9398463339976039\n",
            "0.8247503123313558\n"
          ]
        },
        {
          "output_type": "display_data",
          "data": {
            "image/png": "[encoded data removed]",
            "text/plain": [
              "<Figure size 432x288 with 1 Axes>"
            ]
          },
          "metadata": {
            "needs_background": "light"
          }
        },
        {
          "output_type": "stream",
          "name": "stdout",
          "text": [
            "None\n",
            "0.9706807451768623\n",
            "0.9775935108325122\n"
          ]
        },
        {
          "output_type": "display_data",
          "data": {
            "image/png": "[encoded data removed]",
            "text/plain": [
              "<Figure size 432x288 with 1 Axes>"
            ]
          },
          "metadata": {
            "needs_background": "light"
          }
        }
      ]
    },
    {
      "cell_type": "markdown",
      "metadata": {
        "id": "DmpS4rJ0Ulrj"
      },
      "source": [
        "# 다중 회귀\n",
        "1. 특성공학 --> 기존의 특성을 사용해 새로운 특성을 만든다 --> ex) 농어 길이 * 농어 두께"
      ]
    },
    {
      "cell_type": "code",
      "metadata": {
        "id": "-ZhpAiITVeq0"
      },
      "source": [
        "# 판다스로 데이터 준비\n",
        "import pandas as pd\n",
        "df = pd.read_csv('https://bit.ly/perch_csv_data')\n",
        "\n",
        "# 판다스로 준비된 데이터 넘파이 배열로 바꾸기 --> to_numpy()\n",
        "perch_full = df.to_numpy()\n",
        "print(perch_full)"
      ],
      "execution_count": null,
      "outputs": []
    }
  ]
}